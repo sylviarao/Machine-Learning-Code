{
 "cells": [
  {
   "cell_type": "code",
   "execution_count": 5,
   "metadata": {},
   "outputs": [],
   "source": [
    "%matplotlib inline"
   ]
  },
  {
   "cell_type": "markdown",
   "metadata": {},
   "source": [
    "This script is to perform KMeans clustering on English football players. The original data is scraped from http://sofifa.com."
   ]
  },
  {
   "cell_type": "code",
   "execution_count": 4,
   "metadata": {},
   "outputs": [],
   "source": [
    "import pandas as pd\n",
    "from sklearn.cluster import KMeans\n",
    "import matplotlib.pyplot as plt"
   ]
  },
  {
   "cell_type": "markdown",
   "metadata": {},
   "source": [
    "# Load data"
   ]
  },
  {
   "cell_type": "code",
   "execution_count": 3,
   "metadata": {},
   "outputs": [],
   "source": [
    "#load data\n",
    "df = pd.read_csv('EnglishPlayers.csv')\n",
    "df.head()"
   ]
  },
  {
   "cell_type": "code",
   "execution_count": null,
   "metadata": {},
   "outputs": [],
   "source": [
    "#adjust the attributes (Excludes name and url). \n",
    "X = df.iloc[:,2:]"
   ]
  },
  {
   "cell_type": "markdown",
   "metadata": {},
   "source": [
    "# Elbow analysis\n",
    "\n",
    "How many clusters? From the plot, 4 seems to be a good choice. It is a reasonable number too, as there are 4 general positions in football."
   ]
  },
  {
   "cell_type": "code",
   "execution_count": 6,
   "metadata": {},
   "outputs": [
    {
     "data": {
      "image/png": "[encoded data removed]",
      "text/plain": [
       "<matplotlib.figure.Figure at 0x233663872b0>"
      ]
     },
     "metadata": {},
     "output_type": "display_data"
    }
   ],
   "source": [
    "distances = []\n",
    "\n",
    "for i in range(1,10):\n",
    "    clst = KMeans(n_clusters=i)\n",
    "    clst.fit(X)\n",
    "    distances.append(clst.inertia_)\n",
    "    \n",
    "plt.plot(list(range(1,10)), distances)\n",
    "plt.show()"
   ]
  },
  {
   "cell_type": "markdown",
   "metadata": {},
   "source": [
    "# Clustering"
   ]
  },
  {
   "cell_type": "code",
   "execution_count": 8,
   "metadata": {},
   "outputs": [
    {
     "data": {
      "text/html": [
       "<div>\n",
       "<style scoped>\n",
       "    .dataframe tbody tr th:only-of-type {\n",
       "        vertical-align: middle;\n",
       "    }\n",
       "\n",
       "    .dataframe tbody tr th {\n",
       "        vertical-align: top;\n",
       "    }\n",
       "\n",
       "    .dataframe thead th {\n",
       "        text-align: right;\n",
       "    }\n",
       "</style>\n",
       "<table border=\"1\" class=\"dataframe\">\n",
       "  <thead>\n",
       "    <tr style=\"text-align: right;\">\n",
       "      <th></th>\n",
       "      <th>cluster</th>\n",
       "      <th>counts</th>\n",
       "    </tr>\n",
       "  </thead>\n",
       "  <tbody>\n",
       "    <tr>\n",
       "      <th>0</th>\n",
       "      <td>0</td>\n",
       "      <td>159</td>\n",
       "    </tr>\n",
       "    <tr>\n",
       "      <th>1</th>\n",
       "      <td>1</td>\n",
       "      <td>156</td>\n",
       "    </tr>\n",
       "    <tr>\n",
       "      <th>2</th>\n",
       "      <td>2</td>\n",
       "      <td>35</td>\n",
       "    </tr>\n",
       "    <tr>\n",
       "      <th>3</th>\n",
       "      <td>3</td>\n",
       "      <td>120</td>\n",
       "    </tr>\n",
       "  </tbody>\n",
       "</table>\n",
       "</div>"
      ],
      "text/plain": [
       "   cluster  counts\n",
       "0        0     159\n",
       "1        1     156\n",
       "2        2      35\n",
       "3        3     120"
      ]
     },
     "execution_count": 8,
     "metadata": {},
     "output_type": "execute_result"
    }
   ],
   "source": [
    "kmeans = KMeans(n_clusters=4, random_state=0).fit(X)\n",
    "df[\"cluster\"] = kmeans.labels_\n",
    "#check count for each cluster\n",
    "num_players_per_cluster = df.groupby(['cluster']).size().reset_index(name='counts')\n",
    "num_players_per_cluster"
   ]
  },
  {
   "cell_type": "code",
   "execution_count": 9,
   "metadata": {},
   "outputs": [
    {
     "data": {
      "text/html": [
       "<div>\n",
       "<style scoped>\n",
       "    .dataframe tbody tr th:only-of-type {\n",
       "        vertical-align: middle;\n",
       "    }\n",
       "\n",
       "    .dataframe tbody tr th {\n",
       "        vertical-align: top;\n",
       "    }\n",
       "\n",
       "    .dataframe thead th {\n",
       "        text-align: right;\n",
       "    }\n",
       "</style>\n",
       "<table border=\"1\" class=\"dataframe\">\n",
       "  <thead>\n",
       "    <tr style=\"text-align: right;\">\n",
       "      <th></th>\n",
       "      <th>Crossing</th>\n",
       "      <th>Finishing</th>\n",
       "      <th>Heading accuracy</th>\n",
       "      <th>Short passing</th>\n",
       "      <th>Volleys</th>\n",
       "      <th>Dribbling</th>\n",
       "      <th>Curve</th>\n",
       "      <th>Free kick accuracy</th>\n",
       "      <th>Long passing</th>\n",
       "      <th>Ball control</th>\n",
       "      <th>...</th>\n",
       "      <th>Penalties</th>\n",
       "      <th>Composure</th>\n",
       "      <th>Marking</th>\n",
       "      <th>Standing tackle</th>\n",
       "      <th>Sliding tackle</th>\n",
       "      <th>GK diving</th>\n",
       "      <th>GK handling</th>\n",
       "      <th>GK kicking</th>\n",
       "      <th>GK positioning</th>\n",
       "      <th>GK reflexes</th>\n",
       "    </tr>\n",
       "    <tr>\n",
       "      <th>cluster</th>\n",
       "      <th></th>\n",
       "      <th></th>\n",
       "      <th></th>\n",
       "      <th></th>\n",
       "      <th></th>\n",
       "      <th></th>\n",
       "      <th></th>\n",
       "      <th></th>\n",
       "      <th></th>\n",
       "      <th></th>\n",
       "      <th></th>\n",
       "      <th></th>\n",
       "      <th></th>\n",
       "      <th></th>\n",
       "      <th></th>\n",
       "      <th></th>\n",
       "      <th></th>\n",
       "      <th></th>\n",
       "      <th></th>\n",
       "      <th></th>\n",
       "      <th></th>\n",
       "    </tr>\n",
       "  </thead>\n",
       "  <tbody>\n",
       "    <tr>\n",
       "      <th>0</th>\n",
       "      <td>66.603774</td>\n",
       "      <td>56.471698</td>\n",
       "      <td>58.773585</td>\n",
       "      <td>70.987421</td>\n",
       "      <td>53.056604</td>\n",
       "      <td>67.383648</td>\n",
       "      <td>61.679245</td>\n",
       "      <td>57.723270</td>\n",
       "      <td>67.075472</td>\n",
       "      <td>69.987421</td>\n",
       "      <td>...</td>\n",
       "      <td>57.081761</td>\n",
       "      <td>68.628931</td>\n",
       "      <td>62.371069</td>\n",
       "      <td>66.540881</td>\n",
       "      <td>64.698113</td>\n",
       "      <td>10.880503</td>\n",
       "      <td>10.867925</td>\n",
       "      <td>10.811321</td>\n",
       "      <td>10.691824</td>\n",
       "      <td>10.534591</td>\n",
       "    </tr>\n",
       "    <tr>\n",
       "      <th>1</th>\n",
       "      <td>57.660256</td>\n",
       "      <td>63.788462</td>\n",
       "      <td>54.403846</td>\n",
       "      <td>62.083333</td>\n",
       "      <td>56.807692</td>\n",
       "      <td>66.807692</td>\n",
       "      <td>58.679487</td>\n",
       "      <td>52.891026</td>\n",
       "      <td>54.346154</td>\n",
       "      <td>66.724359</td>\n",
       "      <td>...</td>\n",
       "      <td>62.153846</td>\n",
       "      <td>63.224359</td>\n",
       "      <td>27.807692</td>\n",
       "      <td>32.038462</td>\n",
       "      <td>28.455128</td>\n",
       "      <td>10.641026</td>\n",
       "      <td>11.070513</td>\n",
       "      <td>11.134615</td>\n",
       "      <td>10.884615</td>\n",
       "      <td>10.660256</td>\n",
       "    </tr>\n",
       "    <tr>\n",
       "      <th>2</th>\n",
       "      <td>14.542857</td>\n",
       "      <td>14.314286</td>\n",
       "      <td>14.942857</td>\n",
       "      <td>30.800000</td>\n",
       "      <td>13.628571</td>\n",
       "      <td>15.200000</td>\n",
       "      <td>14.800000</td>\n",
       "      <td>15.142857</td>\n",
       "      <td>30.457143</td>\n",
       "      <td>25.200000</td>\n",
       "      <td>...</td>\n",
       "      <td>24.628571</td>\n",
       "      <td>46.142857</td>\n",
       "      <td>13.800000</td>\n",
       "      <td>14.514286</td>\n",
       "      <td>13.885714</td>\n",
       "      <td>72.200000</td>\n",
       "      <td>69.400000</td>\n",
       "      <td>67.942857</td>\n",
       "      <td>70.114286</td>\n",
       "      <td>73.514286</td>\n",
       "    </tr>\n",
       "    <tr>\n",
       "      <th>3</th>\n",
       "      <td>46.250000</td>\n",
       "      <td>31.525000</td>\n",
       "      <td>66.575000</td>\n",
       "      <td>60.775000</td>\n",
       "      <td>31.833333</td>\n",
       "      <td>49.775000</td>\n",
       "      <td>37.058333</td>\n",
       "      <td>32.183333</td>\n",
       "      <td>57.366667</td>\n",
       "      <td>59.291667</td>\n",
       "      <td>...</td>\n",
       "      <td>39.675000</td>\n",
       "      <td>60.783333</td>\n",
       "      <td>67.550000</td>\n",
       "      <td>66.316667</td>\n",
       "      <td>66.716667</td>\n",
       "      <td>10.725000</td>\n",
       "      <td>11.550000</td>\n",
       "      <td>10.916667</td>\n",
       "      <td>10.775000</td>\n",
       "      <td>11.291667</td>\n",
       "    </tr>\n",
       "  </tbody>\n",
       "</table>\n",
       "<p>4 rows × 34 columns</p>\n",
       "</div>"
      ],
      "text/plain": [
       "          Crossing  Finishing  Heading accuracy  Short passing    Volleys  \\\n",
       "cluster                                                                     \n",
       "0        66.603774  56.471698         58.773585      70.987421  53.056604   \n",
       "1        57.660256  63.788462         54.403846      62.083333  56.807692   \n",
       "2        14.542857  14.314286         14.942857      30.800000  13.628571   \n",
       "3        46.250000  31.525000         66.575000      60.775000  31.833333   \n",
       "\n",
       "         Dribbling      Curve  Free kick accuracy  Long passing  Ball control  \\\n",
       "cluster                                                                         \n",
       "0        67.383648  61.679245           57.723270     67.075472     69.987421   \n",
       "1        66.807692  58.679487           52.891026     54.346154     66.724359   \n",
       "2        15.200000  14.800000           15.142857     30.457143     25.200000   \n",
       "3        49.775000  37.058333           32.183333     57.366667     59.291667   \n",
       "\n",
       "            ...       Penalties  Composure    Marking  Standing tackle  \\\n",
       "cluster     ...                                                          \n",
       "0           ...       57.081761  68.628931  62.371069        66.540881   \n",
       "1           ...       62.153846  63.224359  27.807692        32.038462   \n",
       "2           ...       24.628571  46.142857  13.800000        14.514286   \n",
       "3           ...       39.675000  60.783333  67.550000        66.316667   \n",
       "\n",
       "         Sliding tackle  GK diving  GK handling  GK kicking  GK positioning  \\\n",
       "cluster                                                                       \n",
       "0             64.698113  10.880503    10.867925   10.811321       10.691824   \n",
       "1             28.455128  10.641026    11.070513   11.134615       10.884615   \n",
       "2             13.885714  72.200000    69.400000   67.942857       70.114286   \n",
       "3             66.716667  10.725000    11.550000   10.916667       10.775000   \n",
       "\n",
       "         GK reflexes  \n",
       "cluster               \n",
       "0          10.534591  \n",
       "1          10.660256  \n",
       "2          73.514286  \n",
       "3          11.291667  \n",
       "\n",
       "[4 rows x 34 columns]"
      ]
     },
     "execution_count": 9,
     "metadata": {},
     "output_type": "execute_result"
    }
   ],
   "source": [
    "#check average attributes for each cluster\n",
    "cluster_mean = df.groupby(['cluster']).mean()\n",
    "cluster_mean"
   ]
  },
  {
   "cell_type": "code",
   "execution_count": null,
   "metadata": {
    "collapsed": true
   },
   "outputs": [],
   "source": []
  }
 ],
 "metadata": {
  "kernelspec": {
   "display_name": "Python 3",
   "language": "python",
   "name": "python3"
  },
  "language_info": {
   "codemirror_mode": {
    "name": "ipython",
    "version": 3
   },
   "file_extension": ".py",
   "mimetype": "text/x-python",
   "name": "python",
   "nbconvert_exporter": "python",
   "pygments_lexer": "ipython3",
   "version": "3.6.4"
  }
 },
 "nbformat": 4,
 "nbformat_minor": 2
}
